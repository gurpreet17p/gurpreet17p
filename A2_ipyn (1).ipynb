{
  "nbformat": 4,
  "nbformat_minor": 0,
  "metadata": {
    "colab": {
      "provenance": []
    },
    "kernelspec": {
      "name": "python3",
      "display_name": "Python 3"
    },
    "language_info": {
      "name": "python"
    }
  },
  "cells": [
    {
      "cell_type": "code",
      "execution_count": 1,
      "metadata": {
        "id": "LoHVWaxS2nWJ"
      },
      "outputs": [],
      "source": [
        " # group"
      ]
    },
    {
      "cell_type": "code",
      "source": [
        "# pandas\n"
      ],
      "metadata": {
        "id": "N20xd9H32y0p"
      },
      "execution_count": null,
      "outputs": []
    }
  ]
}